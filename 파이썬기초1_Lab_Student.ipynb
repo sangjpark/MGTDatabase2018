{
 "cells": [
  {
   "cell_type": "markdown",
   "metadata": {},
   "source": [
    "# Jump2Python 2장 Lab"
   ]
  },
  {
   "cell_type": "markdown",
   "metadata": {},
   "source": [
    "## 리스트 Lab\n",
    "### 다음을 수행해보시오.\n",
    "- a = [1,2,3,4,5]\n",
    "- a[0]\n",
    "- a[2:3]\n",
    "- a=[1,2,[‘a’,’b’,[‘Life’,’is’]]]\n",
    "- a[2][2][0]"
   ]
  },
  {
   "cell_type": "markdown",
   "metadata": {},
   "source": [
    "-  ‘CA’, ‘WA’, ‘AZ’, ‘UT’, ‘CO’ 다섯 개의 주 약어를 가지는 리스트를 생성해서 w_states 변수에 할당하시오.\n",
    "- ‘NJ’, ‘MA’, ‘NY’, ‘VA’, ‘PA’ 다섯 개의 주 약어를 가지는 리스트를 생성해서 e_states 변수에 할당하시오.\n",
    "- w.states를 알파벳 순서로 정렬하시오.\n",
    "- w.states에 네바다 주(‘NV’)를 추가하시오.\n"
   ]
  },
  {
   "cell_type": "code",
   "execution_count": 4,
   "metadata": {},
   "outputs": [
    {
     "data": {
      "text/plain": [
       "['AZ', 'CA', 'CO', 'UT', 'WA', 'NV']"
      ]
     },
     "execution_count": 4,
     "metadata": {},
     "output_type": "execute_result"
    }
   ],
   "source": [
    "w_states=['CA','WA','AZ','UT','CO']\n",
    "e_states=['NJ','MA','NY','VA','PA']\n",
    "w_states.sort()\n",
    "w_states.append('NV')\n",
    "w_states"
   ]
  },
  {
   "cell_type": "markdown",
   "metadata": {},
   "source": [
    "-  두 개의 리스트를 합하여 states 변수에 할당하시오.\n",
    "- states에서 처음부터 5개 원소들로 리스트를 만들어 states_5 변수에 할당하시오.\n",
    "- states에서 뒤에 두 개를 제외한 원소들로 리스트를 만들어서 states_9 변수에 할당하시오.\n",
    "- states에서 ‘CO’의 인덱스를 구하시오."
   ]
  },
  {
   "cell_type": "code",
   "execution_count": 7,
   "metadata": {},
   "outputs": [
    {
     "data": {
      "text/plain": [
       "['AZ', 'CA', 'CO', 'UT', 'WA', 'NV', 'NJ', 'MA', 'NY']"
      ]
     },
     "execution_count": 7,
     "metadata": {},
     "output_type": "execute_result"
    }
   ],
   "source": [
    "states=w_states+e_states\n",
    "states\n",
    "states_5=states[:5]\n",
    "states_9=states[:-2]\n",
    "states_9"
   ]
  },
  {
   "cell_type": "code",
   "execution_count": 8,
   "metadata": {},
   "outputs": [
    {
     "data": {
      "text/plain": [
       "2"
      ]
     },
     "execution_count": 8,
     "metadata": {},
     "output_type": "execute_result"
    }
   ],
   "source": [
    "states.index('CO')"
   ]
  },
  {
   "cell_type": "markdown",
   "metadata": {},
   "source": [
    "## 튜플 Lab"
   ]
  },
  {
   "cell_type": "markdown",
   "metadata": {},
   "source": [
    "- 리스트 regions는 4개의 튜플을 가지고 있으며, 각 튜플을 미국 4개 지역의 이름과 인구수(백만 명) 정보를 제공한다.\n",
    "    - “Northeast”, 55.3\n",
    "    - “Midwest”, 66.9\n",
    "    - “South”, 114.6\n",
    "    - “West”, 71.9\n",
    "- 미국 전체 인구는 4지역 인구의 합이다. 미국 전체 인구를 구하시오."
   ]
  },
  {
   "cell_type": "code",
   "execution_count": 29,
   "metadata": {},
   "outputs": [
    {
     "data": {
      "text/plain": [
       "[('Northeast', 55.3),\n",
       " ('Midwest', 66.9),\n",
       " ('South', 114.6),\n",
       " ('West', 71.9),\n",
       " ('USA', 308.70000000000005)]"
      ]
     },
     "execution_count": 29,
     "metadata": {},
     "output_type": "execute_result"
    }
   ],
   "source": [
    "regions=[('Northeast', 55.3),('Midwest', 66.9),('South', 114.6),('West', 71.9)]\n",
    "population=regions[0][1]+regions[1][1]+regions[2][1]+regions[3][1]\n",
    "population\n",
    "regions.append(('USA',population))\n",
    "regions"
   ]
  },
  {
   "cell_type": "markdown",
   "metadata": {},
   "source": [
    "- 최종적으로 다음과 같은 출력을 하는 프로그램을 작성하시오. (고급포매팅)\n",
    "    - <결과>\n",
    "        - The population of the Northeast is 55.3 million.\n",
    "        - The population of the midwest is 66.9 million.\n",
    "        - The population of the South is 114.6 million.\n",
    "        - The population of the West is 71.9 million.\n",
    "        - The total population of USA is 308.7 million."
   ]
  },
  {
   "cell_type": "code",
   "execution_count": 30,
   "metadata": {},
   "outputs": [
    {
     "name": "stdout",
     "output_type": "stream",
     "text": [
      "The population of the Northeast is 55.3 million.\n",
      "The population of the Midwest is 66.9 million.\n",
      "The population of the South is 114.6 million.\n",
      "The population of the West is 71.9 million.\n",
      "The total population of the USA is 308.70000000000005 million.\n"
     ]
    }
   ],
   "source": [
    "print(\"The population of the {states} is {pop} million.\" .format(states=regions[0][0],pop=regions[0][1]))\n",
    "print(\"The population of the {states} is {pop} million.\" .format(states=regions[1][0],pop=regions[1][1]))\n",
    "print(\"The population of the {states} is {pop} million.\" .format(states=regions[2][0],pop=regions[2][1]))\n",
    "print(\"The population of the {states} is {pop} million.\" .format(states=regions[3][0],pop=regions[3][1]))\n",
    "print(\"The total population of the {states} is {pop} million.\" .format(states=regions[4][0],pop=regions[4][1]))"
   ]
  },
  {
   "cell_type": "markdown",
   "metadata": {},
   "source": [
    "## 딕셔너리 Lab\n",
    "-  다음 3 사람의 이름과 전화번호를 딕셔너리로 만드시오. 단 이름은 key로 전화번호는 value로 사용하시오.\n",
    "    - Kim, 010-8888-1234\n",
    "    - Lee, 010-9999-2345\n",
    "    - Park, 010-0001-5432\n",
    "- Kim의 전화번호를 구하시오(인덱스를 사용할 것).\n",
    "- Lee의 전화번호를 get() 함수를 사용하여 구하시오."
   ]
  },
  {
   "cell_type": "code",
   "execution_count": null,
   "metadata": {},
   "outputs": [],
   "source": []
  },
  {
   "cell_type": "markdown",
   "metadata": {},
   "source": [
    "- 다음 사람에 대한 전화번호를 추가하시오.\n",
    "    - Choi, 010-2222-3344\n",
    "- 전체 key들을 리스트로 변환하여 출력하시오.\n",
    "- 전체 value들을 리스트로 변환하여 출력하시오.\n",
    "- ‘You’의 전화번호를 찾으시오. 이름이 없는 경우에는 ‘Not Exist.’를 출력하시오."
   ]
  },
  {
   "cell_type": "markdown",
   "metadata": {},
   "source": [
    "## 집합 Lab\n",
    "- 다음과 같이 두 집합 A, B, C를 생성하시오.\n",
    "    - A = 10보다 작은 홀수의 집합\n",
    "    - B = 12보다 작거나 같은 3의 배수의 집합\n",
    "    - C = 10 보다 작은 소수의 집합\n"
   ]
  },
  {
   "cell_type": "code",
   "execution_count": null,
   "metadata": {},
   "outputs": [],
   "source": []
  },
  {
   "cell_type": "markdown",
   "metadata": {},
   "source": [
    "-  A와 B의 교집합을 구하시오.\n",
    "- A와 C의 교집합을 구하시오.\n",
    "- A∩B∩C를 구하시오.\n",
    "- A와 B의 합집합을 구하시오.\n",
    "- A와 C의 합집합을 구하시오.\n",
    "- AUBUC를 구하시오."
   ]
  },
  {
   "cell_type": "code",
   "execution_count": null,
   "metadata": {},
   "outputs": [],
   "source": []
  },
  {
   "cell_type": "markdown",
   "metadata": {},
   "source": [
    "## 변수 Lab\n",
    "- a에 리스트 [1,2,3]을, b에 리스트 [4,5,6]을 할당하시오.\n",
    "- a와 b를 교환하시오.\n",
    "- [:]을 사용하여 a와 b를 교환하시오(Hint. 중간에 임시 리스트 c를 사용할 것).\n",
    "- copy() 함수를 사용하여 a와 b를 교환하시오(Hint. 중간에 임시 리스트 c를 사용할 것)."
   ]
  },
  {
   "cell_type": "code",
   "execution_count": null,
   "metadata": {},
   "outputs": [],
   "source": []
  }
 ],
 "metadata": {
  "kernelspec": {
   "display_name": "Python 3",
   "language": "python",
   "name": "python3"
  },
  "language_info": {
   "codemirror_mode": {
    "name": "ipython",
    "version": 3
   },
   "file_extension": ".py",
   "mimetype": "text/x-python",
   "name": "python",
   "nbconvert_exporter": "python",
   "pygments_lexer": "ipython3",
   "version": "3.6.4"
  }
 },
 "nbformat": 4,
 "nbformat_minor": 2
}
