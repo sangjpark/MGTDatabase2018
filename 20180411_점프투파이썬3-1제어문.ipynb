{
 "cells": [
  {
   "cell_type": "markdown",
   "metadata": {},
   "source": [
    "# 파이썬 기초 3\n",
    "## 2. While문"
   ]
  },
  {
   "cell_type": "markdown",
   "metadata": {},
   "source": [
    "### 기본구조\n",
    "-반복해서 사용하기"
   ]
  },
  {
   "cell_type": "code",
   "execution_count": null,
   "metadata": {},
   "outputs": [],
   "source": [
    "while <조건문>:\n",
    "    <수행할 문장1>\n",
    "    <수행할 문장2>"
   ]
  },
  {
   "cell_type": "code",
   "execution_count": null,
   "metadata": {},
   "outputs": [],
   "source": [
    "10번찍어 안넘어가는 나무없다.\n",
    "while <10번 찍을 때 까지>:\n",
    "    1-9번 계속 나무 찍자\n",
    "    print(\"몇번 찍었다.\")\n",
    "    10번 찍어 넘어갔다.\n",
    "    print(\"넘어갔다.\")"
   ]
  },
  {
   "cell_type": "code",
   "execution_count": 1,
   "metadata": {},
   "outputs": [
    {
     "name": "stdout",
     "output_type": "stream",
     "text": [
      "1 번 찍었다!\n",
      "2 번 찍었다!\n",
      "3 번 찍었다!\n",
      "4 번 찍었다!\n",
      "5 번 찍었다!\n",
      "6 번 찍었다!\n",
      "7 번 찍었다!\n",
      "8 번 찍었다!\n",
      "9 번 찍었다!\n",
      "10 번 찍었다!\n",
      "넘어간다!\n"
     ]
    }
   ],
   "source": [
    "count = 0\n",
    "while count<10:\n",
    "    count = count+1\n",
    "    print(\"{count} 번 찍었다!\" .format(count=count))\n",
    "    if count == 10:\n",
    "        print(\"넘어간다!\")"
   ]
  },
  {
   "cell_type": "code",
   "execution_count": 2,
   "metadata": {},
   "outputs": [],
   "source": [
    "prompt=\"\"\"\n",
    "1.추가\n",
    "2.삭제\n",
    "3.리스트\n",
    "4.나가기\n",
    "\"\"\""
   ]
  },
  {
   "cell_type": "code",
   "execution_count": 4,
   "metadata": {},
   "outputs": [
    {
     "name": "stdout",
     "output_type": "stream",
     "text": [
      "\n",
      "1.추가\n",
      "2.삭제\n",
      "3.리스트\n",
      "4.나가기\n",
      "\n"
     ]
    }
   ],
   "source": [
    "print(prompt)"
   ]
  },
  {
   "cell_type": "code",
   "execution_count": 5,
   "metadata": {},
   "outputs": [
    {
     "name": "stdout",
     "output_type": "stream",
     "text": [
      "\n",
      "1.추가\n",
      "2.삭제\n",
      "3.리스트\n",
      "4.나가기\n",
      "\n",
      "\n",
      "1.추가\n",
      "2.삭제\n",
      "3.리스트\n",
      "4.나가기\n",
      "\n",
      "\n",
      "1.추가\n",
      "2.삭제\n",
      "3.리스트\n",
      "4.나가기\n",
      "\n",
      "\n",
      "1.추가\n",
      "2.삭제\n",
      "3.리스트\n",
      "4.나가기\n",
      "\n"
     ]
    }
   ],
   "source": [
    "#위화면을 무한재생시킴.\n",
    "number=0\n",
    "while number!=4: #4를 누르는 동안에 반복\n",
    "    print(prompt)\n",
    "    number=int(input(\"번호를 눌러라\"))"
   ]
  },
  {
   "cell_type": "code",
   "execution_count": 8,
   "metadata": {},
   "outputs": [
    {
     "name": "stdout",
     "output_type": "stream",
     "text": [
      "1.추가\n",
      "2.삭제\n",
      "3.리스트\n",
      "4.나가기\n"
     ]
    }
   ],
   "source": [
    "prompt=\"1.추가\\n2.삭제\\n3.리스트\\n4.나가기\"\n",
    "print(prompt)"
   ]
  },
  {
   "cell_type": "markdown",
   "metadata": {},
   "source": [
    "### while문 빠져나가기\n",
    "- break를 이용해보자"
   ]
  },
  {
   "cell_type": "code",
   "execution_count": 9,
   "metadata": {},
   "outputs": [
    {
     "name": "stdout",
     "output_type": "stream",
     "text": [
      "커피 나온당\n",
      "커피 나온당\n",
      "커피 나온당\n",
      "커피 나온당\n",
      "커피 나온당\n",
      "커피 나온당\n",
      "커피 나온당\n",
      "커피 나온당\n",
      "커피 나온당\n",
      "커피 나온당\n",
      "커피가 없습니당\n"
     ]
    }
   ],
   "source": [
    "coffee=10 #자판기 커피재고\n",
    "money=300 #나한테 있는 돈\n",
    "while money:\n",
    "    print(\"커피 나온당\")\n",
    "    coffee=coffee-1 #커피재고 감소\n",
    "    if not coffee:\n",
    "        print(\"커피가 없습니당\")\n",
    "        break"
   ]
  },
  {
   "cell_type": "markdown",
   "metadata": {},
   "source": [
    "### 조건에 안맞는 경우 처음으로 돌아가기\n",
    "- continue"
   ]
  },
  {
   "cell_type": "code",
   "execution_count": 10,
   "metadata": {},
   "outputs": [
    {
     "name": "stdout",
     "output_type": "stream",
     "text": [
      "1\n",
      "3\n",
      "5\n",
      "7\n",
      "9\n"
     ]
    }
   ],
   "source": [
    "a=0\n",
    "while a<10:\n",
    "    a=a+1\n",
    "    if a%2==0:\n",
    "        continue\n",
    "    print(a)    "
   ]
  },
  {
   "cell_type": "markdown",
   "metadata": {},
   "source": [
    "## 3.for 구문 \n",
    "- while과 비슷하지만 좀더 직관적이다."
   ]
  },
  {
   "cell_type": "code",
   "execution_count": null,
   "metadata": {},
   "outputs": [],
   "source": [
    "for 변수 in 리스트 or 튜플 or 문자열:\n",
    "    수행할 문장1\n",
    "    수행할 문장2"
   ]
  },
  {
   "cell_type": "code",
   "execution_count": 11,
   "metadata": {},
   "outputs": [
    {
     "name": "stdout",
     "output_type": "stream",
     "text": [
      "one\n",
      "two\n",
      "three\n"
     ]
    }
   ],
   "source": [
    "test_list=['one','two','three']\n",
    "for i in test_list:\n",
    "    print(i)"
   ]
  },
  {
   "cell_type": "markdown",
   "metadata": {},
   "source": [
    "### for문 응용"
   ]
  },
  {
   "cell_type": "code",
   "execution_count": 16,
   "metadata": {},
   "outputs": [
    {
     "name": "stdout",
     "output_type": "stream",
     "text": [
      "90 점은 합격입니당\n",
      "25 점은 불합격입니당\n",
      "67 점은 합격입니당\n",
      "45 점은 불합격입니당\n",
      "80 점은 합격입니당\n"
     ]
    }
   ],
   "source": [
    "scores=[90,25,67,45,80]\n",
    "\n",
    "for i in scores:\n",
    "    if i>=60:\n",
    "        print(i,\"점은 합격입니당\")\n",
    "    else:\n",
    "        print(i,\"점은 불합격입니당\")"
   ]
  },
  {
   "cell_type": "code",
   "execution_count": 15,
   "metadata": {},
   "outputs": [
    {
     "name": "stdout",
     "output_type": "stream",
     "text": [
      "90 점은 합격입니당\n",
      "67 점은 합격입니당\n",
      "80 점은 합격입니당\n"
     ]
    }
   ],
   "source": [
    "scores=[90,25,67,45,80]\n",
    "\n",
    "for i in scores:\n",
    "    if i>=60:\n",
    "        print(i,\"점은 합격입니당\")\n",
    "    else:\n",
    "        continue\n"
   ]
  },
  {
   "cell_type": "markdown",
   "metadata": {},
   "source": [
    "### for문과 자주 사용하는 함수"
   ]
  },
  {
   "cell_type": "code",
   "execution_count": 19,
   "metadata": {},
   "outputs": [
    {
     "name": "stdout",
     "output_type": "stream",
     "text": [
      "7\n",
      "8\n",
      "9\n"
     ]
    }
   ],
   "source": [
    "for i in range(7,10):\n",
    "    print(i)"
   ]
  },
  {
   "cell_type": "code",
   "execution_count": 20,
   "metadata": {},
   "outputs": [
    {
     "data": {
      "text/plain": [
       "5"
      ]
     },
     "execution_count": 20,
     "metadata": {},
     "output_type": "execute_result"
    }
   ],
   "source": [
    "len(scores)"
   ]
  },
  {
   "cell_type": "code",
   "execution_count": 21,
   "metadata": {},
   "outputs": [
    {
     "data": {
      "text/plain": [
       "range(0, 5)"
      ]
     },
     "execution_count": 21,
     "metadata": {},
     "output_type": "execute_result"
    }
   ],
   "source": [
    "range(len(scores))"
   ]
  },
  {
   "cell_type": "markdown",
   "metadata": {},
   "source": [
    "## for문 lab\n",
    "### 좋아하는 가수 6명을 singer라는 변수에 리스트로 저장하시오.\n",
    "- 모든 6명의 가수를 한 줄씩 출력하시오"
   ]
  },
  {
   "cell_type": "code",
   "execution_count": 22,
   "metadata": {},
   "outputs": [
    {
     "name": "stdout",
     "output_type": "stream",
     "text": [
      "성시경\n",
      "SG워너비\n",
      "김세정\n",
      "지코\n",
      "이수\n",
      "김연우\n"
     ]
    }
   ],
   "source": [
    "singer=['성시경','SG워너비','김세정','지코','이수','김연우']\n",
    "for i in singer:\n",
    "    print(i)"
   ]
  },
  {
   "cell_type": "code",
   "execution_count": 27,
   "metadata": {},
   "outputs": [
    {
     "name": "stdout",
     "output_type": "stream",
     "text": [
      "['성시경', 'SG워너비', '김세정', '지코', '이수', '김연우', '트와이스', '트와이스', '트와이스']\n"
     ]
    },
    {
     "data": {
      "text/plain": [
       "'트와이스'"
      ]
     },
     "execution_count": 27,
     "metadata": {},
     "output_type": "execute_result"
    }
   ],
   "source": [
    "singer.append(\"트와이스\")\n",
    "print(singer)\n",
    "singer.pop()"
   ]
  },
  {
   "cell_type": "code",
   "execution_count": 30,
   "metadata": {},
   "outputs": [
    {
     "name": "stdout",
     "output_type": "stream",
     "text": [
      "['성시경', 'SG워너비', '김세정', '지코', '이수', '김연우']\n"
     ]
    }
   ],
   "source": [
    "singer.pop()\n",
    "print(singer)"
   ]
  },
  {
   "cell_type": "code",
   "execution_count": 31,
   "metadata": {},
   "outputs": [
    {
     "name": "stdout",
     "output_type": "stream",
     "text": [
      "['성시경', 'SG워너비', '김세정', '지코', '이수', '김연우', '트와이스']\n"
     ]
    }
   ],
   "source": [
    "singer.append('트와이스')\n",
    "print(singer)"
   ]
  },
  {
   "cell_type": "code",
   "execution_count": 32,
   "metadata": {},
   "outputs": [
    {
     "name": "stdout",
     "output_type": "stream",
     "text": [
      "성시경\n",
      "SG워너비\n",
      "김세정\n",
      "지코\n",
      "이수\n",
      "김연우\n"
     ]
    }
   ],
   "source": [
    "for i in singer:\n",
    "    if i==\"트와이스\":\n",
    "        continue\n",
    "    print(i)"
   ]
  },
  {
   "cell_type": "code",
   "execution_count": null,
   "metadata": {},
   "outputs": [],
   "source": []
  }
 ],
 "metadata": {
  "kernelspec": {
   "display_name": "Python 3",
   "language": "python",
   "name": "python3"
  },
  "language_info": {
   "codemirror_mode": {
    "name": "ipython",
    "version": 3
   },
   "file_extension": ".py",
   "mimetype": "text/x-python",
   "name": "python",
   "nbconvert_exporter": "python",
   "pygments_lexer": "ipython3",
   "version": "3.6.4"
  }
 },
 "nbformat": 4,
 "nbformat_minor": 2
}
